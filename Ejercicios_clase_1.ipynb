{
 "cells": [
  {
   "cell_type": "code",
   "execution_count": 85,
   "id": "19752a79",
   "metadata": {},
   "outputs": [],
   "source": [
    "import numpy as np\n",
    "import matplotlib.pyplot as plt"
   ]
  },
  {
   "cell_type": "code",
   "execution_count": 2,
   "id": "d5eeb9e9",
   "metadata": {},
   "outputs": [],
   "source": [
    "# Ejercicio 1\n",
    "matriz1=np.array([[0,-6],[5,4]])\n",
    "def normal0(matriz):\n",
    "    l0=np.sum(matriz!=0)\n",
    "    return l0\n",
    "\n",
    "def normal1(matriz):\n",
    "    l1=np.sum(abs(matriz))\n",
    "    return l1\n",
    "\n",
    "def normal2(matriz):\n",
    "    l2=np.sqrt(np.sum(abs(matriz)**2))\n",
    "    return l2\n",
    "\n",
    "def normainf(matriz):\n",
    "    linf=np.max(abs(matriz))\n",
    "    return linf"
   ]
  },
  {
   "cell_type": "code",
   "execution_count": 3,
   "id": "e6db2583",
   "metadata": {},
   "outputs": [
    {
     "name": "stdout",
     "output_type": "stream",
     "text": [
      "La norma l0 de la matriz es: 3\n",
      "La norma l1 de la matriz es: 15\n",
      "La norma l2 de la matriz es: 8.774964387392123\n",
      "La norma l infinito de la matriz es: 6\n"
     ]
    }
   ],
   "source": [
    "print(\"La norma l0 de la matriz es:\",normal0(matriz1))\n",
    "print(\"La norma l1 de la matriz es:\",normal1(matriz1))\n",
    "print(\"La norma l2 de la matriz es:\",normal2(matriz1))\n",
    "print(\"La norma l infinito de la matriz es:\",normainf(matriz1))"
   ]
  },
  {
   "cell_type": "code",
   "execution_count": 4,
   "id": "ddf94264",
   "metadata": {},
   "outputs": [
    {
     "name": "stdout",
     "output_type": "stream",
     "text": [
      "Orden de las normas: [1 0]\n",
      "Matriz 1 ordenada por fila según la norma l2 [[ 5  4]\n",
      " [ 0 -6]]\n"
     ]
    }
   ],
   "source": [
    "# Ejercicio 2\n",
    "def normal2_con_axis(matriz,axis):\n",
    "    l2=np.sqrt(np.sum(abs(matriz)**2,axis=axis))\n",
    "    return l2\n",
    "\n",
    "normas_ordenadas = np.argsort(normal2_con_axis(matriz1,1)[::-1])\n",
    "print(\"Orden de las normas:\",normas_ordenadas)\n",
    "matriz1_ordenada=matriz1[normas_ordenadas]\n",
    "print(\"Matriz 1 ordenada por fila según la norma l2\",matriz1_ordenada)"
   ]
  },
  {
   "cell_type": "code",
   "execution_count": 5,
   "id": "5da5e4cb",
   "metadata": {},
   "outputs": [],
   "source": [
    "#Ejercicio 3\n",
    "class array_ids:\n",
    "    def __init__(self, ids):\n",
    "        indexes = np.unique(ids, return_index=True)[1]\n",
    "        ids_unicos = [ids[index] for index in sorted(indexes)]        \n",
    "        \n",
    "    def get_users_id(self, user_idx):\n",
    "        try:\n",
    "            user_id = ids_unicos[user_idx]\n",
    "        except:\n",
    "            user_id = -1\n",
    "        return user_id\n",
    "    \n",
    "    def get_users_idx(self, user_id):\n",
    "        try:\n",
    "            user_idx = list(ids_unicos).index(user_id)\n",
    "        except:\n",
    "            user_idx = -1\n",
    "        return user_idx"
   ]
  },
  {
   "cell_type": "code",
   "execution_count": 6,
   "id": "da8a65e0",
   "metadata": {},
   "outputs": [],
   "source": [
    "array1 = [1,4,3,2,5,3]"
   ]
  },
  {
   "cell_type": "code",
   "execution_count": 7,
   "id": "08bac9cc",
   "metadata": {},
   "outputs": [],
   "source": [
    "array_id_object = array_ids(array1)"
   ]
  },
  {
   "cell_type": "code",
   "execution_count": 8,
   "id": "bb390988",
   "metadata": {},
   "outputs": [
    {
     "data": {
      "text/plain": [
       "-1"
      ]
     },
     "execution_count": 8,
     "metadata": {},
     "output_type": "execute_result"
    }
   ],
   "source": [
    "array_id_object.get_users_idx(4)"
   ]
  },
  {
   "cell_type": "code",
   "execution_count": 9,
   "id": "0cffe7e5",
   "metadata": {},
   "outputs": [
    {
     "data": {
      "text/plain": [
       "-1"
      ]
     },
     "execution_count": 9,
     "metadata": {},
     "output_type": "execute_result"
    }
   ],
   "source": [
    "array_id_object.get_users_id(1)"
   ]
  },
  {
   "cell_type": "code",
   "execution_count": 10,
   "id": "009ea3c1",
   "metadata": {},
   "outputs": [
    {
     "name": "stdout",
     "output_type": "stream",
     "text": [
      "Wall time: 0 ns\n",
      "3\n",
      "1\n",
      "3\n",
      "3\n",
      "Precision: 0.5\n",
      "Recall 0.5\n",
      "Accuracy 0.4\n"
     ]
    }
   ],
   "source": [
    "#Ejercicio 4\n",
    "%time\n",
    "truth = np.array([1,1,0,1,1,1,0,0,0,1])\n",
    "prediction = np.array([1,1,1,1,0,0,1,1,0,0])\n",
    "\n",
    "suma = truth+prediction\n",
    "resta = truth-prediction\n",
    "TP=len(suma[suma==2])\n",
    "TN=len(suma[suma==0])\n",
    "FN=len(suma[resta==1])\n",
    "FP=len(suma[resta==(-1)])\n",
    "\n",
    "Precision = TP / (TP + FP)\n",
    "Recall = TP / (TP + FN)\n",
    "Accuracy = (TP + TN) / (TP + TN + FP + FN)\n",
    "\n",
    "print(TP)\n",
    "print(TN)\n",
    "print(FN)\n",
    "print(FP)\n",
    "\n",
    "print(\"Precision:\",Precision)\n",
    "print(\"Recall\",Recall)\n",
    "print(\"Accuracy\",Accuracy)"
   ]
  },
  {
   "cell_type": "code",
   "execution_count": 11,
   "id": "3df1deb9",
   "metadata": {},
   "outputs": [],
   "source": [
    "#Ejercicio 5\n",
    "q_id = np.array([1, 1, 1, 1, 2, 2, 2, 3, 3, 3, 3, 3, 4, 4, 4, 4]) \n",
    "predicted_rank = np.array([0, 1, 2, 3, 0, 1, 2, 0, 1, 2, 3, 4, 0, 1, 2, 3]) \n",
    "truth_relevance = np.array([True, False, True, False, True, True, True, False, False, False, False, False, True, False, False, True])"
   ]
  },
  {
   "cell_type": "code",
   "execution_count": 12,
   "id": "43983f31",
   "metadata": {},
   "outputs": [],
   "source": [
    "q_id_list=list(q_id)\n",
    "\n",
    "truth_1=truth_relevance[q_id_list.index(1):q_id_list.index(1)+len(q_id[q_id==1])]\n",
    "\n",
    "truth_2=truth_relevance[q_id_list.index(2):q_id_list.index(2)+len(q_id[q_id==2])]\n",
    "\n",
    "truth_3=truth_relevance[q_id_list.index(3):q_id_list.index(3)+len(q_id[q_id==3])]\n",
    "\n",
    "truth_4=truth_relevance[q_id_list.index(4):q_id_list.index(4)+len(q_id[q_id==4])]\n"
   ]
  },
  {
   "cell_type": "code",
   "execution_count": 13,
   "id": "892d1074",
   "metadata": {},
   "outputs": [
    {
     "name": "stdout",
     "output_type": "stream",
     "text": [
      "0.5\n",
      "1.0\n",
      "0.0\n",
      "0.5\n",
      "AQP 0.5\n"
     ]
    }
   ],
   "source": [
    "Precision_1 = np.sum(truth_1)/len(truth_1)\n",
    "Precision_2 = np.sum(truth_2)/len(truth_2)\n",
    "Precision_3 = np.sum(truth_3)/len(truth_3)\n",
    "Precision_4 = np.sum(truth_4)/len(truth_4)\n",
    "AQP = np.mean(np.array([Precision_1,Precision_2,Precision_3,Precision_4]))\n",
    "print(Precision_1)\n",
    "print(Precision_2)\n",
    "print(Precision_3)\n",
    "print(Precision_4)\n",
    "print(\"AQP\",AQP)"
   ]
  },
  {
   "cell_type": "code",
   "execution_count": 14,
   "id": "ccb58039",
   "metadata": {},
   "outputs": [],
   "source": [
    "#Ejercicio 6 (Ejercicio resuelto por Lautaro)\n",
    "X = np.array([[1, 2, 3], [4, 5, 6], [7, 8, 9]])\n",
    "C = np.array([[1, 0, 0], [0, 1, 1]])\n",
    "\n",
    "def get_centroid_distances(C, X):\n",
    "    expanded_C = C[:, None]\n",
    "    distances = np.sqrt(np.sum((expanded_C - X) ** 2, axis=2))\n",
    "    return distances\n"
   ]
  },
  {
   "cell_type": "code",
   "execution_count": 20,
   "id": "d12e4241",
   "metadata": {},
   "outputs": [
    {
     "name": "stdout",
     "output_type": "stream",
     "text": [
      "[[ 3.60555128  8.36660027 13.45362405]\n",
      " [ 2.44948974  7.54983444 12.72792206]]\n"
     ]
    }
   ],
   "source": [
    "distancias = get_centroid_distances(C,X)\n",
    "print(distancias)"
   ]
  },
  {
   "cell_type": "code",
   "execution_count": 16,
   "id": "609a7f52",
   "metadata": {},
   "outputs": [
    {
     "data": {
      "text/plain": [
       "(3, 3)"
      ]
     },
     "execution_count": 16,
     "metadata": {},
     "output_type": "execute_result"
    }
   ],
   "source": [
    "X.shape"
   ]
  },
  {
   "cell_type": "code",
   "execution_count": 17,
   "id": "980a5683",
   "metadata": {},
   "outputs": [
    {
     "data": {
      "text/plain": [
       "(2, 3)"
      ]
     },
     "execution_count": 17,
     "metadata": {},
     "output_type": "execute_result"
    }
   ],
   "source": [
    "C.shape"
   ]
  },
  {
   "cell_type": "code",
   "execution_count": 18,
   "id": "05bd919c",
   "metadata": {},
   "outputs": [
    {
     "data": {
      "text/plain": [
       "(2, 1, 3)"
      ]
     },
     "execution_count": 18,
     "metadata": {},
     "output_type": "execute_result"
    }
   ],
   "source": [
    "expanded_C = C[:, None]\n",
    "expanded_C.shape"
   ]
  },
  {
   "cell_type": "code",
   "execution_count": 19,
   "id": "b3e2899f",
   "metadata": {},
   "outputs": [
    {
     "name": "stdout",
     "output_type": "stream",
     "text": [
      "[[[ 0 -2 -3]\n",
      "  [-3 -5 -6]\n",
      "  [-6 -8 -9]]\n",
      "\n",
      " [[-1 -1 -2]\n",
      "  [-4 -4 -5]\n",
      "  [-7 -7 -8]]]\n",
      "(2, 3, 3)\n",
      "[[ -5 -14 -23]\n",
      " [ -4 -13 -22]]\n",
      "(2, 3)\n"
     ]
    }
   ],
   "source": [
    "print((expanded_C - X))\n",
    "print((expanded_C - X).shape)\n",
    "print(np.sum((expanded_C - X),axis=2))\n",
    "print((np.sum((expanded_C - X),axis=2)).shape)"
   ]
  },
  {
   "cell_type": "code",
   "execution_count": 25,
   "id": "13afbab7",
   "metadata": {},
   "outputs": [],
   "source": [
    "# Ejercicio 7\n",
    "id_clusters = np.argmin(distancias, axis=0)"
   ]
  },
  {
   "cell_type": "code",
   "execution_count": 79,
   "id": "a45d0dc4",
   "metadata": {},
   "outputs": [],
   "source": [
    "#Ejercicio 8\n",
    "def k_means(X, n):\n",
    "    centroides = X[np.random.choice(np.arange(X.shape[0]),size=n,replace = False)]\n",
    "    distancias = get_centroid_distances(centroides,X)\n",
    "    id_clusters = np.argmin(distancias, axis=0)\n",
    "    for i in range(10): #Elegimos hacer 10 iteraciones de recálculo de centroides\n",
    "        # redeterminar los centroides -> Tomado de Lautaro\n",
    "        for i in range(centroides.shape[0]):\n",
    "            # cada centroide i lo recalculo como la media de todos los vectores X que tengan como id_cluster a ese centroide\n",
    "            centroides[i] = np.mean(X[id_clusters == i, :], axis=0)\n",
    "\n",
    "    return centroides"
   ]
  },
  {
   "cell_type": "code",
   "execution_count": 84,
   "id": "583f82fa",
   "metadata": {},
   "outputs": [
    {
     "data": {
      "text/plain": [
       "array([[3.68830659, 1.0639306 , 3.98537028, 3.24854261, 2.21015793,\n",
       "        2.87419166, 2.04271654, 2.75077796, 2.6421841 , 2.31047921],\n",
       "       [1.92513914, 2.74759078, 1.95443062, 2.50745193, 1.2677928 ,\n",
       "        1.6504626 , 2.81758416, 3.66777792, 1.70953132, 3.58004422],\n",
       "       [2.47166037, 2.84425851, 4.0517224 , 2.07598983, 1.7537255 ,\n",
       "        2.73277276, 1.85204556, 2.01918128, 2.72806235, 1.76469867],\n",
       "       [1.97696912, 2.22423264, 1.82851734, 3.22956425, 2.17410097,\n",
       "        3.43901265, 2.98916347, 1.93558635, 2.92208109, 2.99699173],\n",
       "       [2.53906604, 2.5510891 , 2.17159362, 2.15925639, 3.16012806,\n",
       "        1.39377064, 3.09213944, 2.3579966 , 3.17237137, 2.46862773]])"
      ]
     },
     "execution_count": 84,
     "metadata": {},
     "output_type": "execute_result"
    }
   ],
   "source": [
    "X = (5*np.random.random(size=1000)).reshape(100,10)\n",
    "k_means(X,5)\n"
   ]
  },
  {
   "cell_type": "code",
   "execution_count": null,
   "id": "fdf37d62",
   "metadata": {},
   "outputs": [],
   "source": [
    "#Ejercicio 9"
   ]
  },
  {
   "cell_type": "code",
   "execution_count": null,
   "id": "12a5a198",
   "metadata": {},
   "outputs": [],
   "source": [
    "#Ejercicio 10"
   ]
  }
 ],
 "metadata": {
  "kernelspec": {
   "display_name": "Python 3",
   "language": "python",
   "name": "python3"
  },
  "language_info": {
   "codemirror_mode": {
    "name": "ipython",
    "version": 3
   },
   "file_extension": ".py",
   "mimetype": "text/x-python",
   "name": "python",
   "nbconvert_exporter": "python",
   "pygments_lexer": "ipython3",
   "version": "3.8.8"
  }
 },
 "nbformat": 4,
 "nbformat_minor": 5
}
