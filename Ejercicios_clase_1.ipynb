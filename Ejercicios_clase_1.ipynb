{
 "cells": [
  {
   "cell_type": "code",
   "execution_count": 1,
   "id": "1d400495",
   "metadata": {},
   "outputs": [],
   "source": [
    "import numpy as np\n",
    "import matplotlib.pyplot as plt\n",
    "import pickle"
   ]
  },
  {
   "cell_type": "code",
   "execution_count": 2,
   "id": "80db14d8",
   "metadata": {},
   "outputs": [],
   "source": [
    "# Ejercicio 1\n",
    "matriz1=np.array([[0,-6],[5,4]])\n",
    "def normal0(matriz):\n",
    "    l0=np.sum(matriz!=0)\n",
    "    return l0\n",
    "\n",
    "def normal1(matriz):\n",
    "    l1=np.sum(abs(matriz))\n",
    "    return l1\n",
    "\n",
    "def normal2(matriz):\n",
    "    l2=np.sqrt(np.sum(abs(matriz)**2))\n",
    "    return l2\n",
    "\n",
    "def normainf(matriz):\n",
    "    linf=np.max(abs(matriz))\n",
    "    return linf"
   ]
  },
  {
   "cell_type": "code",
   "execution_count": 3,
   "id": "814b0762",
   "metadata": {},
   "outputs": [
    {
     "name": "stdout",
     "output_type": "stream",
     "text": [
      "La norma l0 de la matriz es: 3\n",
      "La norma l1 de la matriz es: 15\n",
      "La norma l2 de la matriz es: 8.774964387392123\n",
      "La norma l infinito de la matriz es: 6\n"
     ]
    }
   ],
   "source": [
    "print(\"La norma l0 de la matriz es:\",normal0(matriz1))\n",
    "print(\"La norma l1 de la matriz es:\",normal1(matriz1))\n",
    "print(\"La norma l2 de la matriz es:\",normal2(matriz1))\n",
    "print(\"La norma l infinito de la matriz es:\",normainf(matriz1))"
   ]
  },
  {
   "cell_type": "code",
   "execution_count": 4,
   "id": "d6977e17",
   "metadata": {},
   "outputs": [
    {
     "name": "stdout",
     "output_type": "stream",
     "text": [
      "Orden de las normas: [1 0]\n",
      "Matriz 1 ordenada por fila según la norma l2 [[ 5  4]\n",
      " [ 0 -6]]\n"
     ]
    }
   ],
   "source": [
    "# Ejercicio 2\n",
    "def normal2_con_axis(matriz,axis):\n",
    "    l2=np.sqrt(np.sum(abs(matriz)**2,axis=axis))\n",
    "    return l2\n",
    "\n",
    "normas_ordenadas = np.argsort(normal2_con_axis(matriz1,1)[::-1])\n",
    "print(\"Orden de las normas:\",normas_ordenadas)\n",
    "matriz1_ordenada=matriz1[normas_ordenadas]\n",
    "print(\"Matriz 1 ordenada por fila según la norma l2\",matriz1_ordenada)"
   ]
  },
  {
   "cell_type": "code",
   "execution_count": 5,
   "id": "5819a96d",
   "metadata": {},
   "outputs": [],
   "source": [
    "#Ejercicio 3\n",
    "class array_ids:\n",
    "    def __init__(self, ids):\n",
    "        indexes = np.unique(ids, return_index=True)[1]\n",
    "        ids_unicos = [ids[index] for index in sorted(indexes)]        \n",
    "        \n",
    "    def get_users_id(self, user_idx):\n",
    "        try:\n",
    "            user_id = ids_unicos[user_idx]\n",
    "        except:\n",
    "            user_id = -1\n",
    "        return user_id\n",
    "    \n",
    "    def get_users_idx(self, user_id):\n",
    "        try:\n",
    "            user_idx = list(ids_unicos).index(user_id)\n",
    "        except:\n",
    "            user_idx = -1\n",
    "        return user_idx"
   ]
  },
  {
   "cell_type": "code",
   "execution_count": 6,
   "id": "e19eb45a",
   "metadata": {},
   "outputs": [],
   "source": [
    "array1 = [1,4,3,2,5,3]"
   ]
  },
  {
   "cell_type": "code",
   "execution_count": 7,
   "id": "0c84fa0c",
   "metadata": {},
   "outputs": [],
   "source": [
    "array_id_object = array_ids(array1)"
   ]
  },
  {
   "cell_type": "code",
   "execution_count": 8,
   "id": "6999d4a1",
   "metadata": {},
   "outputs": [
    {
     "data": {
      "text/plain": [
       "-1"
      ]
     },
     "execution_count": 8,
     "metadata": {},
     "output_type": "execute_result"
    }
   ],
   "source": [
    "array_id_object.get_users_idx(4)"
   ]
  },
  {
   "cell_type": "code",
   "execution_count": 9,
   "id": "494e1909",
   "metadata": {},
   "outputs": [
    {
     "data": {
      "text/plain": [
       "-1"
      ]
     },
     "execution_count": 9,
     "metadata": {},
     "output_type": "execute_result"
    }
   ],
   "source": [
    "array_id_object.get_users_id(1)"
   ]
  },
  {
   "cell_type": "code",
   "execution_count": 10,
   "id": "a84e1bd8",
   "metadata": {},
   "outputs": [
    {
     "name": "stdout",
     "output_type": "stream",
     "text": [
      "Wall time: 0 ns\n",
      "3\n",
      "1\n",
      "3\n",
      "3\n",
      "Precision: 0.5\n",
      "Recall 0.5\n",
      "Accuracy 0.4\n"
     ]
    }
   ],
   "source": [
    "#Ejercicio 4\n",
    "%time\n",
    "truth = np.array([1,1,0,1,1,1,0,0,0,1])\n",
    "prediction = np.array([1,1,1,1,0,0,1,1,0,0])\n",
    "\n",
    "suma = truth+prediction\n",
    "resta = truth-prediction\n",
    "TP=len(suma[suma==2])\n",
    "TN=len(suma[suma==0])\n",
    "FN=len(suma[resta==1])\n",
    "FP=len(suma[resta==(-1)])\n",
    "\n",
    "Precision = TP / (TP + FP)\n",
    "Recall = TP / (TP + FN)\n",
    "Accuracy = (TP + TN) / (TP + TN + FP + FN)\n",
    "\n",
    "print(TP)\n",
    "print(TN)\n",
    "print(FN)\n",
    "print(FP)\n",
    "\n",
    "print(\"Precision:\",Precision)\n",
    "print(\"Recall\",Recall)\n",
    "print(\"Accuracy\",Accuracy)"
   ]
  },
  {
   "cell_type": "code",
   "execution_count": 11,
   "id": "f425f873",
   "metadata": {},
   "outputs": [],
   "source": [
    "#Ejercicio 5\n",
    "q_id = np.array([1, 1, 1, 1, 2, 2, 2, 3, 3, 3, 3, 3, 4, 4, 4, 4]) \n",
    "# predicted_rank = np.array([0, 1, 2, 3, 0, 1, 2, 0, 1, 2, 3, 4, 0, 1, 2, 3]) # no lo uso\n",
    "truth_relevance = np.array([True, False, True, False, True, True, True, False, False, False, False, False, True, False, False, True])"
   ]
  },
  {
   "cell_type": "code",
   "execution_count": 12,
   "id": "d4ff512a",
   "metadata": {},
   "outputs": [],
   "source": [
    "q_id_list=list(q_id)\n",
    "\n",
    "truth_1=truth_relevance[q_id_list.index(1):q_id_list.index(1)+len(q_id[q_id==1])]\n",
    "\n",
    "truth_2=truth_relevance[q_id_list.index(2):q_id_list.index(2)+len(q_id[q_id==2])]\n",
    "\n",
    "truth_3=truth_relevance[q_id_list.index(3):q_id_list.index(3)+len(q_id[q_id==3])]\n",
    "\n",
    "truth_4=truth_relevance[q_id_list.index(4):q_id_list.index(4)+len(q_id[q_id==4])]\n"
   ]
  },
  {
   "cell_type": "code",
   "execution_count": 13,
   "id": "259fd8d9",
   "metadata": {},
   "outputs": [
    {
     "name": "stdout",
     "output_type": "stream",
     "text": [
      "0.5\n",
      "1.0\n",
      "0.0\n",
      "0.5\n",
      "AQP 0.5\n"
     ]
    }
   ],
   "source": [
    "Precision_1 = np.sum(truth_1)/len(truth_1)\n",
    "Precision_2 = np.sum(truth_2)/len(truth_2)\n",
    "Precision_3 = np.sum(truth_3)/len(truth_3)\n",
    "Precision_4 = np.sum(truth_4)/len(truth_4)\n",
    "AQP = np.mean(np.array([Precision_1,Precision_2,Precision_3,Precision_4]))\n",
    "print(Precision_1)\n",
    "print(Precision_2)\n",
    "print(Precision_3)\n",
    "print(Precision_4)\n",
    "print(\"AQP\",AQP)"
   ]
  },
  {
   "cell_type": "code",
   "execution_count": 14,
   "id": "218a3ea9",
   "metadata": {},
   "outputs": [],
   "source": [
    "#Ejercicio 6 (Ejercicio resuelto por Lautaro)\n",
    "X = np.array([[1, 2, 3], [4, 5, 6], [7, 8, 9]])\n",
    "C = np.array([[1, 0, 0], [0, 1, 1]])\n",
    "\n",
    "def get_centroid_distances(C, X):\n",
    "    expanded_C = C[:, None]\n",
    "    distances = np.sqrt(np.sum((expanded_C - X) ** 2, axis=2))\n",
    "    return distances\n"
   ]
  },
  {
   "cell_type": "code",
   "execution_count": 15,
   "id": "e41f6730",
   "metadata": {},
   "outputs": [
    {
     "name": "stdout",
     "output_type": "stream",
     "text": [
      "[[ 3.60555128  8.36660027 13.45362405]\n",
      " [ 2.44948974  7.54983444 12.72792206]]\n"
     ]
    }
   ],
   "source": [
    "distancias = get_centroid_distances(C,X)\n",
    "print(distancias)"
   ]
  },
  {
   "cell_type": "code",
   "execution_count": 16,
   "id": "71b82e90",
   "metadata": {},
   "outputs": [
    {
     "data": {
      "text/plain": [
       "(3, 3)"
      ]
     },
     "execution_count": 16,
     "metadata": {},
     "output_type": "execute_result"
    }
   ],
   "source": [
    "X.shape"
   ]
  },
  {
   "cell_type": "code",
   "execution_count": 17,
   "id": "c606a8db",
   "metadata": {},
   "outputs": [
    {
     "data": {
      "text/plain": [
       "(2, 3)"
      ]
     },
     "execution_count": 17,
     "metadata": {},
     "output_type": "execute_result"
    }
   ],
   "source": [
    "C.shape"
   ]
  },
  {
   "cell_type": "code",
   "execution_count": 18,
   "id": "47f1058b",
   "metadata": {},
   "outputs": [
    {
     "data": {
      "text/plain": [
       "(2, 1, 3)"
      ]
     },
     "execution_count": 18,
     "metadata": {},
     "output_type": "execute_result"
    }
   ],
   "source": [
    "expanded_C = C[:, None]\n",
    "expanded_C.shape"
   ]
  },
  {
   "cell_type": "code",
   "execution_count": 19,
   "id": "1b88688e",
   "metadata": {},
   "outputs": [
    {
     "name": "stdout",
     "output_type": "stream",
     "text": [
      "[[[ 0 -2 -3]\n",
      "  [-3 -5 -6]\n",
      "  [-6 -8 -9]]\n",
      "\n",
      " [[-1 -1 -2]\n",
      "  [-4 -4 -5]\n",
      "  [-7 -7 -8]]]\n",
      "(2, 3, 3)\n",
      "[[ -5 -14 -23]\n",
      " [ -4 -13 -22]]\n",
      "(2, 3)\n"
     ]
    }
   ],
   "source": [
    "print((expanded_C - X))\n",
    "print((expanded_C - X).shape)\n",
    "print(np.sum((expanded_C - X),axis=2))\n",
    "print((np.sum((expanded_C - X),axis=2)).shape)"
   ]
  },
  {
   "cell_type": "code",
   "execution_count": 20,
   "id": "78335b79",
   "metadata": {},
   "outputs": [],
   "source": [
    "# Ejercicio 7\n",
    "id_clusters = np.argmin(distancias, axis=0)"
   ]
  },
  {
   "cell_type": "code",
   "execution_count": 21,
   "id": "76aca073",
   "metadata": {},
   "outputs": [],
   "source": [
    "#Ejercicio 8\n",
    "def k_means(X, n):\n",
    "    centroides = X[np.random.choice(np.arange(X.shape[0]),size=n,replace = False)]\n",
    "    distancias = get_centroid_distances(centroides,X)\n",
    "    id_clusters = np.argmin(distancias, axis=0)\n",
    "    for i in range(10): #Elegimos hacer 10 iteraciones de recálculo de centroides\n",
    "        # redeterminar los centroides -> Tomado de Lautaro\n",
    "        for i in range(centroides.shape[0]):\n",
    "            # cada centroide i lo recalculo como la media de todos los vectores X que tengan como id_cluster a ese centroide\n",
    "            centroides[i] = np.mean(X[id_clusters == i, :], axis=0)\n",
    "\n",
    "    return centroides,id_clusters"
   ]
  },
  {
   "cell_type": "code",
   "execution_count": 22,
   "id": "0ac884d4",
   "metadata": {},
   "outputs": [],
   "source": [
    "X = (5*np.random.random(size=1000)).reshape(500,2)\n",
    "centroids,id_clusters = k_means(X,5)"
   ]
  },
  {
   "cell_type": "code",
   "execution_count": 23,
   "id": "e49a5488",
   "metadata": {},
   "outputs": [
    {
     "data": {
      "text/plain": [
       "array([1, 3, 3, 0, 0, 2, 1, 4, 0, 1, 4, 1, 2, 4, 4, 1, 4, 4, 4, 3, 1, 3,\n",
       "       4, 1, 0, 2, 1, 1, 4, 3, 3, 1, 2, 3, 2, 0, 1, 3, 0, 3, 4, 3, 1, 3,\n",
       "       3, 1, 3, 0, 2, 1, 1, 1, 3, 4, 4, 4, 1, 1, 4, 2, 3, 3, 1, 0, 3, 4,\n",
       "       1, 1, 2, 1, 3, 3, 0, 3, 0, 2, 3, 3, 1, 1, 3, 4, 3, 3, 3, 3, 4, 3,\n",
       "       4, 1, 3, 3, 1, 1, 3, 3, 1, 4, 4, 3, 3, 3, 4, 3, 3, 3, 3, 1, 2, 3,\n",
       "       1, 0, 0, 3, 2, 3, 4, 3, 2, 4, 4, 1, 1, 1, 0, 3, 4, 4, 1, 1, 4, 0,\n",
       "       0, 1, 0, 1, 4, 4, 3, 3, 2, 4, 1, 3, 3, 2, 2, 4, 3, 3, 4, 1, 1, 4,\n",
       "       3, 1, 3, 3, 1, 3, 3, 3, 1, 4, 1, 3, 3, 0, 1, 3, 1, 3, 1, 3, 3, 4,\n",
       "       3, 1, 3, 3, 3, 4, 3, 2, 2, 3, 3, 3, 3, 1, 1, 2, 2, 1, 1, 2, 3, 3,\n",
       "       3, 4, 1, 1, 4, 1, 3, 4, 3, 2, 3, 2, 3, 4, 2, 3, 0, 3, 4, 1, 3, 2,\n",
       "       4, 3, 1, 3, 1, 1, 1, 1, 3, 1, 0, 1, 3, 2, 1, 3, 3, 3, 4, 4, 1, 3,\n",
       "       1, 4, 0, 4, 0, 3, 2, 2, 1, 3, 1, 2, 1, 2, 4, 4, 2, 1, 4, 3, 3, 3,\n",
       "       4, 4, 4, 4, 2, 3, 4, 1, 3, 1, 1, 3, 3, 4, 2, 3, 1, 3, 1, 1, 3, 3,\n",
       "       3, 1, 3, 1, 2, 2, 0, 2, 4, 0, 1, 3, 0, 4, 3, 2, 4, 3, 1, 4, 1, 4,\n",
       "       1, 3, 2, 1, 4, 2, 1, 1, 1, 4, 4, 4, 4, 1, 4, 3, 1, 4, 3, 1, 2, 0,\n",
       "       1, 0, 0, 1, 3, 3, 3, 3, 3, 3, 1, 2, 1, 4, 2, 4, 2, 2, 1, 4, 4, 1,\n",
       "       1, 2, 2, 3, 1, 4, 4, 1, 3, 4, 1, 3, 4, 2, 1, 3, 1, 3, 4, 1, 4, 4,\n",
       "       3, 4, 3, 4, 3, 2, 3, 4, 1, 4, 0, 4, 1, 1, 3, 3, 1, 2, 3, 1, 2, 4,\n",
       "       3, 4, 4, 1, 3, 3, 3, 1, 3, 3, 4, 3, 3, 3, 3, 3, 1, 2, 3, 1, 4, 2,\n",
       "       3, 1, 2, 2, 3, 4, 4, 4, 4, 0, 3, 3, 4, 4, 1, 4, 1, 1, 0, 1, 3, 3,\n",
       "       1, 1, 4, 1, 3, 1, 1, 3, 1, 4, 0, 0, 4, 3, 3, 4, 3, 2, 4, 4, 4, 4,\n",
       "       1, 3, 0, 0, 4, 3, 1, 2, 3, 4, 3, 3, 2, 1, 4, 4, 1, 2, 2, 4, 1, 0,\n",
       "       4, 2, 2, 1, 3, 4, 1, 3, 3, 3, 2, 3, 4, 3, 4, 4], dtype=int64)"
      ]
     },
     "execution_count": 23,
     "metadata": {},
     "output_type": "execute_result"
    }
   ],
   "source": [
    "id_clusters"
   ]
  },
  {
   "cell_type": "code",
   "execution_count": 24,
   "id": "fa8ac8ca",
   "metadata": {},
   "outputs": [
    {
     "data": {
      "text/plain": [
       "<matplotlib.collections.PathCollection at 0x1ab2fb82250>"
      ]
     },
     "execution_count": 24,
     "metadata": {},
     "output_type": "execute_result"
    },
    {
     "data": {
      "image/png": "[encoded data removed]",
      "text/plain": [
       "<Figure size 1440x720 with 1 Axes>"
      ]
     },
     "metadata": {
      "needs_background": "light"
     },
     "output_type": "display_data"
    }
   ],
   "source": [
    "fig, ax = plt.subplots(ncols=1, nrows=1, figsize=(20,10))\n",
    "\n",
    "plt.scatter(X[:,0],X[:,1], )\n",
    "plt.scatter(centroids[:,0],centroids[:,1])\n",
    "#ax[0].set(xlabel=\"Eje X\", ylabel=\"Eje Y\")\n",
    "#ax[0].title.set_text(\"This title has to be very clear and explicative\")\n",
    "#for p in ax[0].patches:\n",
    "#    ax[0].annotate(\"%.2f\" % p.get_height(), (p.get_x() + p.get_width() / 2., p.get_height()), ha=\"center\", va=\"center\", fontsize=12, color=\"white\", xytext=(0, -10), textcoords=\"offset points\")"
   ]
  },
  {
   "cell_type": "code",
   "execution_count": 25,
   "id": "096b512f",
   "metadata": {},
   "outputs": [],
   "source": [
    "#Ejercicio 9\n",
    "#Resolución de Lautaro, solo agregué los comentarios.\n",
    "\n",
    "#Creo una clase base de métricas\n",
    "class metrica_base:\n",
    "    def __init__(self, **kwargs): #El init lo defino con self y además con parámetros en forma de diccionario que llamo kwargs\n",
    "        self.parameters = kwargs #Los parámetros que le pasé al init en forma de diccionario, los guardo como atributo parametros\n",
    "    \n",
    "    def __call__(self,*args,**kwargs):  #El call lo defino con self, con parámetros en forma de tupla llamados args y parámetros en forma de diccionario que llamo kwargs\n",
    "        pass\n",
    "\n",
    "#Creo una clase para la métrica precisión, a partir de la métrica base. \n",
    "class precision(metrica_base):\n",
    "    def __init__(self,**kwargs):\n",
    "        metrica_base.init(self,**kwargs) #El init de precision va a ser el mismo init de metrica_base al cual le podemos pasar parámetros en forma de diccionario. Los parámetros que le vamos a pasar son el conjunto de predicition y el de truth.\n",
    "    \n",
    "    def __call__(self): # El call lo defino solo con self porque los parámetros ya están guardados en self.parameters\n",
    "        prediction = self.parameters[\"predictions\"] # Como precision es una clase child de metrica_base, entonces tiene los parámetros self.parameters, que son los kwargs que le paso en el init\n",
    "        truth = self.parameters[\"truth\"] # esos kwargs que le paso en el init van a ser un conjunto llamado \"predictions\" y otro conjunto llamado \"truth\"\n",
    "        true_pos_mask = (prediction == 1) & (truth == 1) #tomo como verdaderos positivos aquellos valores que sean 1 tanto en truth como en prediction\n",
    "        true_pos = true_pos_mask.sum() \n",
    "        false_pos_mask = (prediction == 1) & (truth == 0) #tomo como falsos positivos aquellos valores que predije como 1 pero son 0 en truth    \n",
    "        false_pos = false_pos_mask.sum()\n",
    "        return true_pos/(true_pos + false_pos) #cuando llame a la clase, voy a devolver la precisión\n",
    "\n",
    "    \n",
    "#Creo una clase para la métrica recall, a partir de la métrica base. \n",
    "class Recall(metrica_base):\n",
    "    def __init__(self, **kwargs):\n",
    "        metrica_base.__init__(self, **kwargs) #El init de precision va a ser el mismo init de metrica_base al cual le podemos pasar parámetros en forma de diccionario. Los parámetros que le vamos a pasar son el conjunto de predicition y el de truth.\n",
    "    \n",
    "    def __call__(self):\n",
    "        prediction = self.parameters[\"predictions\"]\n",
    "        truth = self.parameters[\"truth\"]\n",
    "        true_pos_mask = (prediction == 1) & (truth == 1)\n",
    "        true_pos = true_pos_mask.sum()\n",
    "        false_neg_mask = (prediction == 0) & (truth == 1) #tomo como falsos negativos aquellos valores que preije como 0, pero que son 1 en truth.\n",
    "        false_neg = false_neg_mask.sum()\n",
    "        return true_pos/(true_pos + false_neg)\n",
    "\n",
    "#Creo una clase para la métrica accuracy, a partir de la métrica base. \n",
    "class Accuracy(metrica_base):\n",
    "    def __init__(self, **kwargs):\n",
    "        metrica_base.__init__(self, **kwargs)\n",
    "\n",
    "    def __call__(self):\n",
    "        prediction = self.parameters[\"predictions\"]\n",
    "        truth = self.parameters[\"truth\"]\n",
    "        true_pos_mask = (prediction == 1) & (truth == 1)\n",
    "        true_pos = true_pos_mask.sum()\n",
    "        false_pos_mask = (prediction == 1) & (truth == 0)\n",
    "        false_pos = false_pos_mask.sum()\n",
    "        true_neg_mask = (prediction == 0) & (truth == 0) # los verdaderos negativos los defino como aquellos valores que son 0 en truth y también en predictions\n",
    "        true_neg = true_neg_mask.sum()\n",
    "        false_neg_mask = (prediction == 0) & (truth == 1)\n",
    "        false_neg = false_neg_mask.sum()\n",
    "        return (true_pos + true_neg)/(true_pos + true_neg + false_pos + false_neg)\n",
    "    \n",
    "#Creo una clase para la métrica QueryMeanPrecision, a partir de la métrica base\n",
    "class QueryMeanPrecision(metrica_base):\n",
    "\n",
    "    def __init__(self, **kwargs):\n",
    "        metrica_base.__init__(self, **kwargs)\n",
    "\n",
    "    def __call__(self):\n",
    "\n",
    "        \"\"\"\n",
    "        Definición:\n",
    "        Mean Precision obtiene la media de la precisión de cada query. La precisión de una query es la cantidad de\n",
    "        documentos 'true positive' (realmente relevantes), dividido por la cantidad de documentos obtenidos. Una\n",
    "        precisión de 1 significa una precisión perfecta para la query.\n",
    "        \"\"\"\n",
    "\n",
    "        truth_relevance = self.parameters[\"truth_relevance\"]\n",
    "        query_ids = self.parameters[\"q_id\"]\n",
    "\n",
    "        # Obtener la cantidad de queries con al menos un documento relevante\n",
    "        true_relevance_mask = (truth_relevance == 1)\n",
    "        filtered_query_id = query_ids[true_relevance_mask]\n",
    "        # en las queries con relevance, cuento cuántos valores de cada query_id tengo en la filtered_query_id, es decir, cuántos valores true para cada query\n",
    "        filtered_true_relevance_count = np.bincount(filtered_query_id)\n",
    "        # contar queries con 0 en queries sin documentos relevantes\n",
    "        unique_query_ids = np.unique(query_ids) #guardo los querys_ids únicos\n",
    "        non_zero_count_idxs = np.where(filtered_true_relevance_count > 0) # guardo la posición de los querys_ids relevantes (son aquellas posiciones en filtered_true_relevance_count que tienen un valor mayor a 0)\n",
    "        true_relevance_count = np.zeros(unique_query_ids.max() + 1) #armo un array de 0s de tamaño igual al máximo id único\n",
    "        true_relevance_count[non_zero_count_idxs] = filtered_true_relevance_count[non_zero_count_idxs] # a aquellas posiciones de ids que tenían true, les coloco la cantidad de true que tuvieron\n",
    "        # obtener el total solo para las queries existentes\n",
    "        true_relevance_count_by_query = true_relevance_count[unique_query_ids] #Porque el true_relevance_count también incluye el 0, que no es ninguna query\n",
    "        # obtener el total de documentos\n",
    "        fetched_documents_count = np.bincount(query_ids)[unique_query_ids]  #Porque el bincount también incluye el 0, que no es ninguna query\n",
    "        # calcular la métrica\n",
    "        precision_by_query = true_relevance_count_by_query / fetched_documents_count\n",
    "        return np.mean(precision_by_query)\n",
    "        \n",
    "        \n",
    "\n",
    "class IterateMetrics(object): #La clase IterateMetrics se está creando como un child de la clase object. En Python 3.x esto ya no es necesario, ya que todas la sclases son child de object # https://stackoverflow.com/questions/4015417/why-do-python-classes-inherit-object\n",
    "    def __init__(self, **kwargs):\n",
    "        self.data = kwargs #Los kwargs va a ser la información que le voy a pasar para que calcule las métricas\n",
    "        self.metrics = {} #Acá voy a guardar los resultados de las métricas en un diccionario\n",
    "\n",
    "    def get_metrics(self,*args):\n",
    "        #metrics_options = [Precision, Recall, Accuracy, QueryMeanPrecision]\n",
    "        metrics_options = args #Cambié solo esto, para poder pasarle qué métrica quiero que compute en cada caso\n",
    "        for metric in metrics_options:\n",
    "            aux = metric(**self.data)\n",
    "            self.metrics[metric.__name__] = aux()\n",
    "        return self.metrics\n",
    "        "
   ]
  },
  {
   "cell_type": "code",
   "execution_count": 26,
   "id": "6dd0f31c",
   "metadata": {},
   "outputs": [
    {
     "data": {
      "text/plain": [
       "{'QueryMeanPrecision': 0.5}"
      ]
     },
     "execution_count": 26,
     "metadata": {},
     "output_type": "execute_result"
    }
   ],
   "source": [
    "iter_met = IterateMetrics(q_id=q_id,truth_relevance=truth_relevance)\n",
    "iter_met.get_metrics(QueryMeanPrecision)"
   ]
  },
  {
   "cell_type": "code",
   "execution_count": 55,
   "id": "82ceecb6",
   "metadata": {},
   "outputs": [],
   "source": [
    "#Ejercicio 10\n",
    "\n",
    "class Dataset(object): #La clase IterateMetrics se está creando como un child de la clase object. En Python 3.x esto ya no es necesario, ya que todas la sclases son child de object # https://stackoverflow.com/questions/4015417/why-do-python-classes-inherit-object\n",
    "    instance = None # Contador que será distino de None cuando ya se haya creado alguna vez el objeto.\n",
    "\n",
    "    def __new__(cls, file_name): # cls es un homólogo a self, pero hace referencia a las clases mientras que self a la instancia. https://stackoverflow.com/questions/4613000/difference-between-cls-and-self-in-python-classes\n",
    "        if Dataset.instance is None: # verificamos si se creó el objeto. Si no fue creado, entonces:\n",
    "            Dataset.instance = super(Dataset, cls).__new__(cls) # La función super nos ayuda a ejecutar el método new de la clase parent \"object\"\n",
    "            return Dataset.instance                             # Con esto, la instancia de la clase quedaría creada.\n",
    "        else:\n",
    "            return Dataset.instance     # Si la instancia ya estaba creada, directamente devolvemos la instancia.\n",
    "\n",
    "    def __init__(self, file_name):\n",
    "        try:\n",
    "            self.structured_dataset = pickle.load(open(\"../data/movie_dataset.pkl\", \"rb\")) \n",
    "            # Una vez que la instancia está creada intentamos buscar el archivo movie_dataset en formato pickle (.pkl)\n",
    "            # En caso de existir, lo abrimos con pickle.load y esa apertura la asignamos al atributo structured_dataset\n",
    "    \n",
    "        except(OSError, IOError) as e: # En caso de un error por no encontrar el archivo\n",
    "            data = self._build_dataset(file_name) # cargamos y armamos el dataset con build_dataset que definimos más abajo\n",
    "            pickle.dump(data, open(\"../data/movie_dataset.pickle\", \"wb\")) # guardamos el dataset en formato pickle\n",
    "            self.structured_dataset = pickle.load(open(\"../data/movie_dataset.pickle\", \"rb\")) # leemos el archivo en formato pickle\n",
    "    \n",
    "    def _build_dataset(self, path):\n",
    "        structure = [('userId', np.int64),\n",
    "                     ('movieId', np.int64),\n",
    "                     ('rating', np.float32),\n",
    "                     ('timestamp', np.int64)] # estructura que tendrán los datos del dataset\n",
    "        \n",
    "        with open(path, encoding=\"utf8\") as data_csv: #El encoding utf8 es uno de los más comunes actualmente. Por lo general deberíamos verificar qué encoding tiene el archivo que queremos cargar.\n",
    "            data_gen = ((int(line.split(',')[0]), int(line.split(',')[1]),\n",
    "                         float(line.split(',')[2]), int(line.split(',')[3]))\n",
    "                        for i, line in enumerate(data_csv) if i != 0)\n",
    "            # la función enumerate nos genera una especie de índice o contador que comienza en 0 y aumenta con cada dato\n",
    "            # en este caso, i es el contador o índice de la fila y line es cada la fila de datos\n",
    "            # para cada fila de datos voy a tener el primer dato como entero, el segundo como entero, el tercero como float y el cuarto como entero.\n",
    "            # esto lo hago para cada línea del dataset con for i, line in enumerate(data_csv) if i!= 0\n",
    "            # el i!=0 lo usamos porque en la primer fila tenemos los nombres de las columnas.\n",
    "            \n",
    "            #Sin emabargo, lo que tenemos en data_gen todavía debemos convertirlo a un array con la estructura que necesitamos\n",
    "            # Para eso, usamos np.fromiter que a partir de un objeto iterable construye un array y tenemos la opción de indicarle la estructura que queremos que tenga ese array.\n",
    "            data = np.fromiter(data_gen, structure)\n",
    "        return data"
   ]
  },
  {
   "cell_type": "code",
   "execution_count": 56,
   "id": "179f9856",
   "metadata": {},
   "outputs": [],
   "source": [
    "dataset_00 = Dataset(\"ratings.csv\")"
   ]
  },
  {
   "cell_type": "code",
   "execution_count": 61,
   "id": "35e31836",
   "metadata": {},
   "outputs": [
    {
     "data": {
      "text/plain": [
       "(1, 110)"
      ]
     },
     "execution_count": 61,
     "metadata": {},
     "output_type": "execute_result"
    }
   ],
   "source": [
    "dataset_00.structured_dataset[0][[\"userId\",\"movieId\"]]"
   ]
  }
 ],
 "metadata": {
  "kernelspec": {
   "display_name": "Python 3",
   "language": "python",
   "name": "python3"
  },
  "language_info": {
   "codemirror_mode": {
    "name": "ipython",
    "version": 3
   },
   "file_extension": ".py",
   "mimetype": "text/x-python",
   "name": "python",
   "nbconvert_exporter": "python",
   "pygments_lexer": "ipython3",
   "version": "3.8.8"
  }
 },
 "nbformat": 4,
 "nbformat_minor": 5
}
