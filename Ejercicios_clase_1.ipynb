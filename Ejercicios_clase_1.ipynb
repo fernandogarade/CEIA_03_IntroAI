{
 "cells": [
  {
   "cell_type": "code",
   "execution_count": 1,
   "id": "d9be7bfa",
   "metadata": {},
   "outputs": [],
   "source": [
    "import numpy as np"
   ]
  },
  {
   "cell_type": "code",
   "execution_count": 36,
   "id": "8337398a",
   "metadata": {},
   "outputs": [],
   "source": [
    "# Ejercicio 1\n",
    "matriz1=np.array([[0,-6],[4,5]])\n",
    "def normal0(matriz):\n",
    "    l0=np.sum(matriz!=0)\n",
    "    return l0\n",
    "\n",
    "def normal1(matriz):\n",
    "    l1=np.sum(abs(matriz))\n",
    "    return l1\n",
    "\n",
    "def normal2(matriz):\n",
    "    l2=np.sqrt(np.sum(abs(matriz)**2))\n",
    "    return l2\n",
    "\n",
    "def normainf(matriz):\n",
    "    linf=np.max(abs(matriz))\n",
    "    return linf"
   ]
  },
  {
   "cell_type": "code",
   "execution_count": 37,
   "id": "bd847a37",
   "metadata": {},
   "outputs": [
    {
     "name": "stdout",
     "output_type": "stream",
     "text": [
      "La norma l0 de la matriz es: 3\n",
      "La norma l1 de la matriz es: 15\n",
      "La norma l2 de la matriz es: 8.774964387392123\n",
      "La norma l infinito de la matriz es: 6\n"
     ]
    }
   ],
   "source": [
    "print(\"La norma l0 de la matriz es:\",normal0(matriz1))\n",
    "print(\"La norma l1 de la matriz es:\",normal1(matriz1))\n",
    "print(\"La norma l2 de la matriz es:\",normal2(matriz1))\n",
    "print(\"La norma l infinito de la matriz es:\",normainf(matriz1))"
   ]
  },
  {
   "cell_type": "code",
   "execution_count": 41,
   "id": "6077fc73",
   "metadata": {},
   "outputs": [
    {
     "name": "stdout",
     "output_type": "stream",
     "text": [
      "Orden de las normas: [1 0]\n",
      "Matriz 1 ordenada por fila según la norma l2 [[ 4  5]\n",
      " [ 0 -6]]\n"
     ]
    }
   ],
   "source": [
    "# Ejercicio 2\n",
    "def normal2_con_axis(matriz,axis):\n",
    "    l2=np.sqrt(np.sum(abs(matriz)**2,axis=axis))\n",
    "    return l2\n",
    "\n",
    "normas_ordenadas = np.argsort(normal2_con_axis(matriz1,1)[::-1])\n",
    "print(\"Orden de las normas:\",normas_ordenadas)\n",
    "matriz1_ordenada=matriz1[normas_ordenadas]\n",
    "print(\"Matriz 1 ordenada por fila según la norma l2\",matriz1_ordenada)"
   ]
  },
  {
   "cell_type": "code",
   "execution_count": null,
   "id": "4900afcb",
   "metadata": {},
   "outputs": [],
   "source": [
    "#Ejercicio 3\n",
    "class ids:\n",
    "    def __init__(self):\n",
    "    \n",
    "    def get_users_id:\n",
    "        "
   ]
  },
  {
   "cell_type": "code",
   "execution_count": 63,
   "id": "80f2d490",
   "metadata": {},
   "outputs": [
    {
     "name": "stdout",
     "output_type": "stream",
     "text": [
      "3\n",
      "1\n",
      "3\n",
      "3\n",
      "Precision: 0.5\n",
      "Recall 0.5\n",
      "Accuracy 0.4\n"
     ]
    }
   ],
   "source": [
    "#Ejercicio 4\n",
    "truth = np.array([1,1,0,1,1,1,0,0,0,1])\n",
    "prediction = np.array([1,1,1,1,0,0,1,1,0,0])\n",
    "\n",
    "suma = truth+prediction\n",
    "resta = truth-prediction\n",
    "TP=len(suma[suma==2])\n",
    "TN=len(suma[suma==0])\n",
    "FN=len(suma[resta==1])\n",
    "FP=len(suma[resta==(-1)])\n",
    "\n",
    "Precision = TP / (TP + FP)\n",
    "Recall = TP / (TP + FN)\n",
    "Accuracy = (TP + TN) / (TP + TN + FP + FN)\n",
    "\n",
    "print(TP)\n",
    "print(TN)\n",
    "print(FN)\n",
    "print(FP)\n",
    "\n",
    "print(\"Precision:\",Precision)\n",
    "print(\"Recall\",Recall)\n",
    "print(\"Accuracy\",Accuracy)"
   ]
  },
  {
   "cell_type": "code",
   "execution_count": 65,
   "id": "34b63496",
   "metadata": {},
   "outputs": [],
   "source": [
    "#Ejercicio 5\n",
    "q_id = np.array([1, 1, 1, 1, 2, 2, 2, 3, 3, 3, 3, 3, 4, 4, 4, 4]) \n",
    "predicted_rank = np.array([0, 1, 2, 3, 0, 1, 2, 0, 1, 2, 3, 4, 0, 1, 2, 3]) \n",
    "truth_relevance = np.array([True, False, True, False, True, True, True, False, False, False, False, False, True, False, False, True])"
   ]
  },
  {
   "cell_type": "code",
   "execution_count": 85,
   "id": "3221752b",
   "metadata": {},
   "outputs": [],
   "source": [
    "q_id_list=list(q_id)\n",
    "\n",
    "truth_1=truth_relevance[q_id_list.index(1):q_id_list.index(1)+len(q_id[q_id==1])]\n",
    "\n",
    "truth_2=truth_relevance[q_id_list.index(2):q_id_list.index(2)+len(q_id[q_id==2])]\n",
    "\n",
    "truth_3=truth_relevance[q_id_list.index(3):q_id_list.index(3)+len(q_id[q_id==3])]\n",
    "\n",
    "truth_4=truth_relevance[q_id_list.index(4):q_id_list.index(4)+len(q_id[q_id==4])]\n"
   ]
  },
  {
   "cell_type": "code",
   "execution_count": 95,
   "id": "485b14f0",
   "metadata": {},
   "outputs": [
    {
     "name": "stdout",
     "output_type": "stream",
     "text": [
      "0.5\n",
      "1.0\n",
      "0.0\n",
      "0.5\n",
      "AQP 0.5\n"
     ]
    }
   ],
   "source": [
    "Precision_1 = np.sum(truth_1)/len(truth_1)\n",
    "Precision_2 = np.sum(truth_2)/len(truth_2)\n",
    "Precision_3 = np.sum(truth_3)/len(truth_3)\n",
    "Precision_4 = np.sum(truth_4)/len(truth_4)\n",
    "AQP = np.mean(np.array([Precision_1,Precision_2,Precision_3,Precision_4]))\n",
    "print(Precision_1)\n",
    "print(Precision_2)\n",
    "print(Precision_3)\n",
    "print(Precision_4)\n",
    "print(\"AQP\",AQP)"
   ]
  }
 ],
 "metadata": {
  "kernelspec": {
   "display_name": "Python 3",
   "language": "python",
   "name": "python3"
  },
  "language_info": {
   "codemirror_mode": {
    "name": "ipython",
    "version": 3
   },
   "file_extension": ".py",
   "mimetype": "text/x-python",
   "name": "python",
   "nbconvert_exporter": "python",
   "pygments_lexer": "ipython3",
   "version": "3.8.8"
  }
 },
 "nbformat": 4,
 "nbformat_minor": 5
}
