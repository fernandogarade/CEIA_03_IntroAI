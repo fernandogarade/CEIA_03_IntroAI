{
 "cells": [
  {
   "cell_type": "markdown",
   "id": "665fa611",
   "metadata": {},
   "source": [
    "# FIUBA\n",
    "## CEIA - Introducción a Inteligencia Artificial\n",
    "## Examen\n",
    "Fernando Emir Garade"
   ]
  },
  {
   "cell_type": "markdown",
   "id": "91ec249f",
   "metadata": {},
   "source": [
    "**1. Responder las siguientes preguntas teóricas: link.**  \n",
    "\n",
    "**2. Pre-procesamiento del dataset:**\n",
    "\n",
    "    a. Obtener el dataset desde el siguiente link. La primera columna representa los datos de entrada y la segunda columna representa los datos de salida.\n",
    "\n",
    "    b. Levantar el dataset en un arreglo de Numpy. \n",
    "\n",
    "    c. Graficar el dataset de manera tal que sea posible visualizar la nube de puntos.\n",
    "\n",
    "    d. Partir el dataset en train (80%) y test (20%).\n",
    "\n",
    "**3. Utilizar regresión polinómica para hacer “fit” sobre la nube de puntos del train. Para este ejercicio, se desea utilizar la fórmula cerrada de la optimización polinómica. El modelo es de la forma** \n",
    "\n",
    "y = [Wn … W0] * [X^n    X^(n-1)    …    1]. \n",
    "\n",
    "    a. Para n = 1 (modelo lineal con ordenada al origen), hacer un fit del modelo utilizando K-FOLDS. Para K-FOLDS partir el train dataset en 5 partes iguales, utilizar 4/5 para entrenar y 1/5 para validar. Informar el mejor modelo obtenido y el criterio utilizado para elegir dicho modelo (dejar comentarios en el código).\n",
    "\n",
    "    b. Repetir el punto (a), para n = {2,3,4}. Computar el error de validación y test del mejor modelo para cada n.\n",
    "\n",
    "    c. Elegir el polinomio que hace mejor fit sobre la nube de puntos y explicar el criterio seleccionado (dejar comentarios en el código). \n",
    "\n",
    "    d. Graficar el polinomio obtenido y el dataset de test. \n",
    "\n",
    "**4. Para el mejor modelo seleccionado en (3c) (el mejor “n”), hacer la optimización utilizando Mini-Batch Gradient Descent (partir el train dataset en 4/5 para entrenar y 1/5 para validar).**\n",
    "\n",
    "    a. Para cada epoch, calcular el error de train y el error de validation. \n",
    "\n",
    "    b. Graficar el error de train y el error de validación en función del número de epoch.\n",
    "\n",
    "    c. Comparar los resultados obtenidos para el modelo entrenado con Mini-Batch, contra el modelo obtenido en (3c).\n",
    "\n",
    "**5. Para el mejor modelo seleccionado en (3c), hacer la optimización utilizando Mini-Batch y regularización Ridge.**\n",
    "\n",
    "    a. Computar el gradiente de J y codificar en Numpy la implementación del gradiente.\n",
    "\n",
    "    b. Comparar con el modelo obtenido en (4).\n"
   ]
  },
  {
   "cell_type": "code",
   "execution_count": 1,
   "id": "2f9b8784",
   "metadata": {},
   "outputs": [],
   "source": [
    "import numpy as np\n",
    "import matplotlib.pyplot as plt"
   ]
  },
  {
   "cell_type": "markdown",
   "id": "dad98d72",
   "metadata": {},
   "source": [
    "## Ejercicio 2: Pre-procesamiento del dataset"
   ]
  },
  {
   "cell_type": "markdown",
   "id": "b3460d99",
   "metadata": {},
   "source": [
    "### a. Obtener el dataset desde el siguiente link. La primera columna representa los datos de entrada y la segunda columna representa los datos de salida."
   ]
  },
  {
   "cell_type": "markdown",
   "id": "000cd81d",
   "metadata": {},
   "source": [
    "### b. Levantar el dataset en un arreglo de Numpy. "
   ]
  },
  {
   "cell_type": "code",
   "execution_count": 62,
   "id": "7e955909",
   "metadata": {},
   "outputs": [],
   "source": [
    "class Data(object):\n",
    "\n",
    "    def __init__(self, path):\n",
    "        self.dataset = self._build_dataset(path)\n",
    "\n",
    "    @staticmethod\n",
    "    def _build_dataset(path):\n",
    "        structure = [('X', np.float),\n",
    "                     ('y', np.float)]\n",
    "\n",
    "        with open(path, encoding=\"utf8\") as data_csv:\n",
    "            data_gen = ((float(line.split(',')[0]), float(line.split(',')[1]))\n",
    "                        for i, line in enumerate(data_csv))\n",
    "            data = np.fromiter(data_gen, structure)\n",
    "\n",
    "        return data\n",
    "\n",
    "    def split(self, percentage):  # 0.8\n",
    "        X = self.dataset['X']\n",
    "        y = self.dataset['y']\n",
    "\n",
    "        # X.shape[0] -> 10 (filas)\n",
    "\n",
    "        permuted_idxs = np.random.permutation(X.shape[0])\n",
    "        # 2,1,3,4,6,7,8,5,9,0\n",
    "\n",
    "        train_idxs = permuted_idxs[0:int(percentage * X.shape[0])]\n",
    "        # permuted_idxs[0:8]\n",
    "        # [2,1,3,4,5,6,7,8,5]\n",
    "\n",
    "        test_idxs = permuted_idxs[int(percentage * X.shape[0]): X.shape[0]]\n",
    "        # [9,0]\n",
    "\n",
    "        X_train = X[train_idxs]\n",
    "        X_test = X[test_idxs]\n",
    "\n",
    "        y_train = y[train_idxs]\n",
    "        y_test = y[test_idxs]\n",
    "\n",
    "        return X_train, X_test, y_train, y_test"
   ]
  },
  {
   "cell_type": "code",
   "execution_count": 75,
   "id": "4c598a92",
   "metadata": {},
   "outputs": [],
   "source": [
    "dataset = Data('data\\clase_8_dataset.csv')"
   ]
  },
  {
   "cell_type": "code",
   "execution_count": 76,
   "id": "4ac57d34",
   "metadata": {},
   "outputs": [],
   "source": [
    "X = dataset._build_dataset('data\\clase_8_dataset.csv')['X']\n",
    "y = dataset._build_dataset('data\\clase_8_dataset.csv')['y']"
   ]
  },
  {
   "cell_type": "markdown",
   "id": "d1a427f8",
   "metadata": {},
   "source": [
    "### c. Graficar el dataset de manera tal que sea posible visualizar la nube de puntos."
   ]
  },
  {
   "cell_type": "code",
   "execution_count": 77,
   "id": "5e3d2930",
   "metadata": {},
   "outputs": [
    {
     "data": {
      "text/plain": [
       "<matplotlib.collections.PathCollection at 0x1e4209a5ca0>"
      ]
     },
     "execution_count": 77,
     "metadata": {},
     "output_type": "execute_result"
    },
    {
     "data": {
      "image/png": "[encoded data removed]",
      "text/plain": [
       "<Figure size 1080x720 with 1 Axes>"
      ]
     },
     "metadata": {
      "needs_background": "light"
     },
     "output_type": "display_data"
    }
   ],
   "source": [
    "plt.subplots(figsize=(15,10))\n",
    "plt.scatter(X, y)"
   ]
  },
  {
   "cell_type": "markdown",
   "id": "f83ea579",
   "metadata": {},
   "source": [
    "### d. Partir el dataset en train (80%) y test (20%)."
   ]
  },
  {
   "cell_type": "code",
   "execution_count": 78,
   "id": "bd90e38e",
   "metadata": {},
   "outputs": [],
   "source": [
    "X_train, X_test, y_train, y_test = dataset.split(0.8)"
   ]
  },
  {
   "cell_type": "markdown",
   "id": "aa48d746",
   "metadata": {},
   "source": [
    "## Ejercicio 3: Utilizar regresión polinómica para hacer “fit” sobre la nube de puntos del train. Para este ejercicio, se desea utilizar la fórmula cerrada de la optimización polinómica. El modelo es de la forma y = [Wn … W0] * [X^n    X^(n-1)    …    1]."
   ]
  },
  {
   "cell_type": "code",
   "execution_count": 142,
   "id": "1a121132",
   "metadata": {},
   "outputs": [],
   "source": [
    "class BaseModel(object):\n",
    "\n",
    "    def __init__(self):\n",
    "        self.model = None\n",
    "\n",
    "    def fit(self, X, Y):\n",
    "        return NotImplemented\n",
    "\n",
    "    def predict(self, X):\n",
    "        return NotImplemented\n",
    "\n",
    "class LinearRegression(BaseModel):\n",
    "\n",
    "    def fit(self, X, y):\n",
    "        if len(X.shape) == 1:\n",
    "            W = X.T.dot(y) / X.T.dot(X)\n",
    "        else:\n",
    "            W = np.linalg.inv(X.T.dot(X)).dot(X.T).dot(y)\n",
    "        self.model = W\n",
    "\n",
    "    def predict(self, X):\n",
    "        return X.dot(self.model)"
   ]
  },
  {
   "cell_type": "code",
   "execution_count": 143,
   "id": "f880a595",
   "metadata": {},
   "outputs": [],
   "source": [
    "class Metric(object):\n",
    "    def __call__(self, target, prediction):\n",
    "        return NotImplemented\n",
    "\n",
    "\n",
    "class MSE(Metric):\n",
    "    def __init__(self):\n",
    "        Metric.__init__(self)\n",
    "\n",
    "    def __call__(self, target, prediction):\n",
    "        n = target.size\n",
    "        return np.sum((target - prediction) ** 2) / n"
   ]
  },
  {
   "cell_type": "code",
   "execution_count": 144,
   "id": "ced6fb27",
   "metadata": {},
   "outputs": [],
   "source": [
    "def k_folds(X_train, y_train, k=5):\n",
    "    l_regression = LinearRegression()\n",
    "    error = MSE()\n",
    "    w_list=[]\n",
    "\n",
    "    chunk_size = int(len(X_train) / k)\n",
    "    mse_list = []\n",
    "    for i in range(0, len(X_train), chunk_size):\n",
    "        end = i + chunk_size if i + chunk_size <= len(X_train) else len(X_train)\n",
    "        new_X_valid = X_train[i: end]\n",
    "        new_y_valid = y_train[i: end]\n",
    "        new_X_train = np.concatenate([X_train[: i], X_train[end:]])\n",
    "        new_y_train = np.concatenate([y_train[: i], y_train[end:]])\n",
    "\n",
    "        l_regression.fit(new_X_train, new_y_train)\n",
    "        prediction = l_regression.predict(new_X_valid)\n",
    "        w_list.append(l_regression.model)\n",
    "        mse_list.append(error(new_y_valid, prediction))\n",
    "\n",
    "    mean_MSE = np.mean(mse_list)\n",
    "\n",
    "    return mean_MSE"
   ]
  },
  {
   "cell_type": "markdown",
   "id": "1438695a",
   "metadata": {},
   "source": [
    "### a. Para n = 1 (modelo lineal con ordenada al origen), hacer un fit del modelo utilizando K-FOLDS. Para K-FOLDS partir el train dataset en 5 partes iguales, utilizar 4/5 para entrenar y 1/5 para validar. Informar el mejor modelo obtenido y el criterio utilizado para elegir dicho modelo (dejar comentarios en el código)."
   ]
  },
  {
   "cell_type": "code",
   "execution_count": 145,
   "id": "97e1955c",
   "metadata": {},
   "outputs": [],
   "source": [
    "X_train_1 = np.vstack((X_train, np.ones(len(X_train)))).T"
   ]
  },
  {
   "cell_type": "code",
   "execution_count": 150,
   "id": "417299c9",
   "metadata": {},
   "outputs": [
    {
     "data": {
      "text/plain": [
       "834.6960027160342"
      ]
     },
     "execution_count": 150,
     "metadata": {},
     "output_type": "execute_result"
    }
   ],
   "source": [
    "k_folds(X_train_1, y_train, k=5)"
   ]
  },
  {
   "cell_type": "markdown",
   "id": "c44e137d",
   "metadata": {},
   "source": [
    "### b. Repetir el punto (a), para n = {2,3,4}. Computar el error de validación y test del mejor modelo para cada n."
   ]
  },
  {
   "cell_type": "code",
   "execution_count": 152,
   "id": "65999a21",
   "metadata": {},
   "outputs": [],
   "source": [
    "X_train_2 = np.vstack((np.power(X_train, 2), X_train, np.ones(len(X_train)))).T\n",
    "X_train_3 = np.vstack((np.power(X_train, 3),np.power(X_train, 2), X_train, np.ones(len(X_train)))).T\n",
    "X_train_4 = np.vstack((np.power(X_train, 4), np.power(X_train, 3),np.power(X_train, 2), X_train, np.ones(len(X_train)))).T"
   ]
  },
  {
   "cell_type": "code",
   "execution_count": 153,
   "id": "bd080281",
   "metadata": {},
   "outputs": [
    {
     "data": {
      "text/plain": [
       "100.12294444150382"
      ]
     },
     "execution_count": 153,
     "metadata": {},
     "output_type": "execute_result"
    }
   ],
   "source": [
    "k_folds(X_train_2, y_train, k=5)"
   ]
  },
  {
   "cell_type": "code",
   "execution_count": 154,
   "id": "0af6d88f",
   "metadata": {},
   "outputs": [
    {
     "data": {
      "text/plain": [
       "9.839364275961861"
      ]
     },
     "execution_count": 154,
     "metadata": {},
     "output_type": "execute_result"
    }
   ],
   "source": [
    "k_folds(X_train_3, y_train, k=5)"
   ]
  },
  {
   "cell_type": "code",
   "execution_count": 155,
   "id": "6a7c56cf",
   "metadata": {},
   "outputs": [
    {
     "data": {
      "text/plain": [
       "9.874519460016591"
      ]
     },
     "execution_count": 155,
     "metadata": {},
     "output_type": "execute_result"
    }
   ],
   "source": [
    "k_folds(X_train_4, y_train, k=5)"
   ]
  },
  {
   "cell_type": "markdown",
   "id": "4cfbf763",
   "metadata": {},
   "source": [
    "### c. Elegir el polinomio que hace mejor fit sobre la nube de puntos y explicar el criterio seleccionado (dejar comentarios en el código)."
   ]
  },
  {
   "cell_type": "markdown",
   "id": "d0f1686f",
   "metadata": {},
   "source": [
    "El modelo de grado 3 y 4 tienen un error cuadrático medio muy parecido, incluso el de 3° orden es menor. Elijo el polinomio de 3° grado ya que también es un modelo más simple."
   ]
  },
  {
   "cell_type": "markdown",
   "id": "d61e0921",
   "metadata": {},
   "source": [
    "### d. Graficar el polinomio obtenido y el dataset de test. "
   ]
  },
  {
   "cell_type": "code",
   "execution_count": 158,
   "id": "b4a4db6b",
   "metadata": {},
   "outputs": [],
   "source": [
    "X_test_3 = np.vstack((np.power(X_test, 3),np.power(X_test, 2), X_test, np.ones(len(X_test)))).T"
   ]
  },
  {
   "cell_type": "code",
   "execution_count": 159,
   "id": "fb3eee25",
   "metadata": {},
   "outputs": [],
   "source": [
    "reglin = LinearRegression()\n",
    "reglin.fit(X_train_3, y_train)\n",
    "prediction = reglin.predict(X_test_3)"
   ]
  },
  {
   "cell_type": "code",
   "execution_count": 163,
   "id": "ef6dafd9",
   "metadata": {},
   "outputs": [
    {
     "data": {
      "image/png": "[encoded data removed]",
      "text/plain": [
       "<Figure size 1080x720 with 1 Axes>"
      ]
     },
     "metadata": {
      "needs_background": "light"
     },
     "output_type": "display_data"
    }
   ],
   "source": [
    "plt.subplots(figsize=(15,10))\n",
    "plt.scatter(X_test, y_test, label='y_true')\n",
    "plt.scatter(X_test, prediction, label='y_pred')\n",
    "plt.legend()\n",
    "plt.show()"
   ]
  },
  {
   "cell_type": "markdown",
   "id": "69f94f99",
   "metadata": {},
   "source": [
    "## 4. Para el mejor modelo seleccionado en (3c) (el mejor “n”), hacer la optimización utilizando Mini-Batch Gradient Descent (partir el train dataset en 4/5 para entrenar y 1/5 para validar)."
   ]
  },
  {
   "cell_type": "code",
   "execution_count": 177,
   "id": "d011362f",
   "metadata": {},
   "outputs": [],
   "source": [
    "def mini_batch_gradient_descent(X_train, y_train, lr=0.01, amt_epochs=100):\n",
    "    \"\"\"\n",
    "    shapes:\n",
    "        X_t = nxm\n",
    "        y_t = nx1\n",
    "        W = mx1\n",
    "    \"\"\"\n",
    "    b = 10\n",
    "    n = X_train.shape[0]\n",
    "    m = X_train.shape[1]\n",
    "\n",
    "    # initialize random weights\n",
    "    W = np.random.randn(m).reshape(m, 1)\n",
    "\n",
    "    for i in range(amt_epochs):\n",
    "        idx = np.random.permutation(X_train.shape[0])\n",
    "        X_train = X_train[idx]\n",
    "        y_train = y_train[idx]\n",
    "\n",
    "        batch_size = int(len(X_train) / b)\n",
    "        for i in range(0, len(X_train), batch_size):\n",
    "            end = i + batch_size if i + batch_size <= len(X_train) else len(X_train)\n",
    "            batch_X = X_train[i: end]\n",
    "            batch_y = y_train[i: end]\n",
    "\n",
    "            prediction = np.matmul(batch_X, W)  # nx1\n",
    "            error = batch_y - prediction  # nx1\n",
    "\n",
    "            grad_sum = np.sum(batch_X * error, axis=0)\n",
    "            grad_mul = -2/n * grad_sum  # 1xm\n",
    "            gradient = np.transpose(grad_mul).reshape(-1, 1)  # mx1\n",
    "\n",
    "            W = W - (lr * gradient)\n",
    "\n",
    "    return W"
   ]
  },
  {
   "cell_type": "code",
   "execution_count": 173,
   "id": "a1c12e97",
   "metadata": {},
   "outputs": [],
   "source": [
    "def k_folds_mini_batch(X_train, y_train, k=5):\n",
    "    l_regression = mini_batch_gradient_descent(X_train,y_train,lr=0.01,amt_epochs=50)\n",
    "    error = MSE()\n",
    "    w_list=[]\n",
    "\n",
    "    chunk_size = int(len(X_train) / k)\n",
    "    mse_list = []\n",
    "    for i in range(0, len(X_train), chunk_size):\n",
    "        end = i + chunk_size if i + chunk_size <= len(X_train) else len(X_train)\n",
    "        new_X_valid = X_train[i: end]\n",
    "        new_y_valid = y_train[i: end]\n",
    "        new_X_train = np.concatenate([X_train[: i], X_train[end:]])\n",
    "        new_y_train = np.concatenate([y_train[: i], y_train[end:]])\n",
    "\n",
    "        #l_regression.fit(new_X_train, new_y_train)\n",
    "        prediction = l_regression.dot(new_X_valid)\n",
    "        w_list.append(l_regression)\n",
    "        mse_list.append(error(new_y_valid, prediction))\n",
    "\n",
    "    mean_MSE = np.mean(mse_list)\n",
    "\n",
    "    return mean_MSE"
   ]
  },
  {
   "cell_type": "markdown",
   "id": "7fad24f5",
   "metadata": {},
   "source": [
    "### a. Para cada epoch, calcular el error de train y el error de validation. "
   ]
  },
  {
   "cell_type": "code",
   "execution_count": 219,
   "id": "e90017c5",
   "metadata": {},
   "outputs": [],
   "source": [
    "X_train_3_estandarizado = (X_train_3[:,:3] - X_train_3[:,:3].mean(axis=0)) / X_train_3[:,:3].std(axis=0)"
   ]
  },
  {
   "cell_type": "code",
   "execution_count": 221,
   "id": "c8860b20",
   "metadata": {},
   "outputs": [
    {
     "data": {
      "text/plain": [
       "(400, 3)"
      ]
     },
     "execution_count": 221,
     "metadata": {},
     "output_type": "execute_result"
    }
   ],
   "source": [
    "X_train_3_estandarizado.shape"
   ]
  },
  {
   "cell_type": "code",
   "execution_count": 223,
   "id": "87851dcf",
   "metadata": {},
   "outputs": [
    {
     "ename": "ValueError",
     "evalue": "all the input array dimensions for the concatenation axis must match exactly, but along dimension 1, the array at index 0 has size 3 and the array at index 1 has size 400",
     "output_type": "error",
     "traceback": [
      "\u001b[1;31m---------------------------------------------------------------------------\u001b[0m",
      "\u001b[1;31mValueError\u001b[0m                                Traceback (most recent call last)",
      "\u001b[1;32m<ipython-input-223-d22d4b6778b6>\u001b[0m in \u001b[0;36m<module>\u001b[1;34m\u001b[0m\n\u001b[1;32m----> 1\u001b[1;33m \u001b[0mX_train_3_estandarizado_with_ones\u001b[0m \u001b[1;33m=\u001b[0m \u001b[0mnp\u001b[0m\u001b[1;33m.\u001b[0m\u001b[0mvstack\u001b[0m\u001b[1;33m(\u001b[0m\u001b[1;33m(\u001b[0m\u001b[0mX_train_3_estandarizado\u001b[0m\u001b[1;33m,\u001b[0m \u001b[0mnp\u001b[0m\u001b[1;33m.\u001b[0m\u001b[0mones\u001b[0m\u001b[1;33m(\u001b[0m\u001b[0mX_train_3_estandarizado\u001b[0m\u001b[1;33m.\u001b[0m\u001b[0mshape\u001b[0m\u001b[1;33m[\u001b[0m\u001b[1;36m0\u001b[0m\u001b[1;33m]\u001b[0m\u001b[1;33m)\u001b[0m\u001b[1;33m)\u001b[0m\u001b[1;33m)\u001b[0m\u001b[1;33m.\u001b[0m\u001b[0mT\u001b[0m\u001b[1;33m\u001b[0m\u001b[1;33m\u001b[0m\u001b[0m\n\u001b[0m",
      "\u001b[1;32m<__array_function__ internals>\u001b[0m in \u001b[0;36mvstack\u001b[1;34m(*args, **kwargs)\u001b[0m\n",
      "\u001b[1;32m~\\.conda\\envs\\datascience\\lib\\site-packages\\numpy\\core\\shape_base.py\u001b[0m in \u001b[0;36mvstack\u001b[1;34m(tup)\u001b[0m\n\u001b[0;32m    281\u001b[0m     \u001b[1;32mif\u001b[0m \u001b[1;32mnot\u001b[0m \u001b[0misinstance\u001b[0m\u001b[1;33m(\u001b[0m\u001b[0marrs\u001b[0m\u001b[1;33m,\u001b[0m \u001b[0mlist\u001b[0m\u001b[1;33m)\u001b[0m\u001b[1;33m:\u001b[0m\u001b[1;33m\u001b[0m\u001b[1;33m\u001b[0m\u001b[0m\n\u001b[0;32m    282\u001b[0m         \u001b[0marrs\u001b[0m \u001b[1;33m=\u001b[0m \u001b[1;33m[\u001b[0m\u001b[0marrs\u001b[0m\u001b[1;33m]\u001b[0m\u001b[1;33m\u001b[0m\u001b[1;33m\u001b[0m\u001b[0m\n\u001b[1;32m--> 283\u001b[1;33m     \u001b[1;32mreturn\u001b[0m \u001b[0m_nx\u001b[0m\u001b[1;33m.\u001b[0m\u001b[0mconcatenate\u001b[0m\u001b[1;33m(\u001b[0m\u001b[0marrs\u001b[0m\u001b[1;33m,\u001b[0m \u001b[1;36m0\u001b[0m\u001b[1;33m)\u001b[0m\u001b[1;33m\u001b[0m\u001b[1;33m\u001b[0m\u001b[0m\n\u001b[0m\u001b[0;32m    284\u001b[0m \u001b[1;33m\u001b[0m\u001b[0m\n\u001b[0;32m    285\u001b[0m \u001b[1;33m\u001b[0m\u001b[0m\n",
      "\u001b[1;32m<__array_function__ internals>\u001b[0m in \u001b[0;36mconcatenate\u001b[1;34m(*args, **kwargs)\u001b[0m\n",
      "\u001b[1;31mValueError\u001b[0m: all the input array dimensions for the concatenation axis must match exactly, but along dimension 1, the array at index 0 has size 3 and the array at index 1 has size 400"
     ]
    }
   ],
   "source": [
    "X_train_3_estandarizado_with_ones = np.vstack((X_train_3_estandarizado, np.ones(X_train_3_estandarizado.shape[0]))).T"
   ]
  },
  {
   "cell_type": "code",
   "execution_count": 218,
   "id": "5c1c1158",
   "metadata": {},
   "outputs": [
    {
     "data": {
      "text/plain": [
       "array([[-2.21241152e+07,  7.88092643e+04, -2.80729878e+02],\n",
       "       [ 9.19515693e+05,  9.45597024e+03,  9.72418132e+01],\n",
       "       [-1.91326197e+07,  7.15346231e+04, -2.67459573e+02],\n",
       "       ...,\n",
       "       [ 5.24981991e+02,  6.50773116e+01,  8.06705099e+00],\n",
       "       [-1.09963629e+06,  1.06536733e+04, -1.03216633e+02],\n",
       "       [ 3.85352597e+05,  5.29548238e+03,  7.27700651e+01]])"
      ]
     },
     "execution_count": 218,
     "metadata": {},
     "output_type": "execute_result"
    }
   ],
   "source": [
    "X_train_3[:,:3]"
   ]
  },
  {
   "cell_type": "code",
   "execution_count": 191,
   "id": "6509ccae",
   "metadata": {},
   "outputs": [],
   "source": [
    "from sklearn.preprocessing import StandardScaler"
   ]
  },
  {
   "cell_type": "code",
   "execution_count": 224,
   "id": "27b94ff9",
   "metadata": {},
   "outputs": [],
   "source": [
    "stdscl = StandardScaler()\n",
    "X_train_3_centrado_con_sklearn = stdscl.fit_transform(X_train_3)"
   ]
  },
  {
   "cell_type": "code",
   "execution_count": 225,
   "id": "bf6d78d2",
   "metadata": {},
   "outputs": [
    {
     "data": {
      "text/plain": [
       "array([ 3.79739333e+05,  5.29218535e+04, -6.90621715e+00,  1.00000000e+00])"
      ]
     },
     "execution_count": 225,
     "metadata": {},
     "output_type": "execute_result"
    }
   ],
   "source": [
    "stdscl.mean_"
   ]
  },
  {
   "cell_type": "code",
   "execution_count": 226,
   "id": "624f42a2",
   "metadata": {},
   "outputs": [
    {
     "data": {
      "text/plain": [
       "array([ 3.79739333e+05,  5.29218535e+04, -6.90621715e+00,  1.00000000e+00])"
      ]
     },
     "execution_count": 226,
     "metadata": {},
     "output_type": "execute_result"
    }
   ],
   "source": [
    "X_train_3.mean(axis=0)"
   ]
  },
  {
   "cell_type": "code",
   "execution_count": 227,
   "id": "ebe023cf",
   "metadata": {},
   "outputs": [
    {
     "data": {
      "text/plain": [
       "array([5.34772143e+14, 2.06780675e+09, 5.28741577e+04, 0.00000000e+00])"
      ]
     },
     "execution_count": 227,
     "metadata": {},
     "output_type": "execute_result"
    }
   ],
   "source": [
    "stdscl.var_"
   ]
  },
  {
   "cell_type": "code",
   "execution_count": 228,
   "id": "49fd3e2b",
   "metadata": {},
   "outputs": [
    {
     "data": {
      "text/plain": [
       "array([5.34772143e+14, 2.06780675e+09, 5.28741577e+04, 0.00000000e+00])"
      ]
     },
     "execution_count": 228,
     "metadata": {},
     "output_type": "execute_result"
    }
   ],
   "source": [
    "X_train_3.var(axis=0)"
   ]
  },
  {
   "cell_type": "code",
   "execution_count": 229,
   "id": "fc5eea40",
   "metadata": {},
   "outputs": [
    {
     "data": {
      "text/plain": [
       "array([[-23.31553338],\n",
       "       [ 27.31057672],\n",
       "       [  0.24485255],\n",
       "       [ -0.0902225 ]])"
      ]
     },
     "execution_count": 229,
     "metadata": {},
     "output_type": "execute_result"
    }
   ],
   "source": [
    "mini_batch_gradient_descent(X_train_3_centrado_con_sklearn, y_train.reshape(-1, 1), lr=0.05, amt_epochs=100000)"
   ]
  },
  {
   "cell_type": "markdown",
   "id": "77a63453",
   "metadata": {},
   "source": [
    "Con Sklearn funciona bien la estandarización, tengo que afinar la estandarización manual con numpy"
   ]
  },
  {
   "cell_type": "markdown",
   "id": "5201e0d1",
   "metadata": {},
   "source": [
    "### b. Graficar el error de train y el error de validación en función del número de epoch."
   ]
  },
  {
   "cell_type": "code",
   "execution_count": null,
   "id": "74575b9b",
   "metadata": {},
   "outputs": [],
   "source": []
  },
  {
   "cell_type": "markdown",
   "id": "339e1275",
   "metadata": {},
   "source": [
    "### c. Comparar los resultados obtenidos para el modelo entrenado con Mini-Batch, contra el modelo obtenido en (3c)."
   ]
  },
  {
   "cell_type": "code",
   "execution_count": null,
   "id": "c197a8e1",
   "metadata": {},
   "outputs": [],
   "source": []
  }
 ],
 "metadata": {
  "kernelspec": {
   "display_name": "Python 3",
   "language": "python",
   "name": "python3"
  },
  "language_info": {
   "codemirror_mode": {
    "name": "ipython",
    "version": 3
   },
   "file_extension": ".py",
   "mimetype": "text/x-python",
   "name": "python",
   "nbconvert_exporter": "python",
   "pygments_lexer": "ipython3",
   "version": "3.8.8"
  }
 },
 "nbformat": 4,
 "nbformat_minor": 5
}
