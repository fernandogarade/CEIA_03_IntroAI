{
 "cells": [
  {
   "cell_type": "markdown",
   "metadata": {},
   "source": [
    "# Implementación de PCA en NumPy"
   ]
  },
  {
   "cell_type": "markdown",
   "metadata": {},
   "source": [
    "## Objetivos\n",
    "* Implementación de PCA en NumPy paso a paso\n",
    "* Comparación de resultados con Scikit-learn"
   ]
  },
  {
   "cell_type": "markdown",
   "metadata": {},
   "source": [
    "## Implementación"
   ]
  },
  {
   "cell_type": "markdown",
   "metadata": {},
   "source": [
    "1. Dado un dataset $X \\in \\mathbb{R}^{n, d}$, con $n$ muestras y $d$ features, queremos reducir sus dimensiones a $m$. Para ello, el primer paso es centrar el dataset (Hint: usen np.mean)"
   ]
  },
  {
   "cell_type": "code",
   "execution_count": 198,
   "metadata": {},
   "outputs": [],
   "source": [
    "import numpy as np\n",
    "from sklearn.decomposition import PCA\n",
    "from sklearn.preprocessing import StandardScaler\n",
    "N=10\n",
    "D=4\n",
    "X=np.random.rand(N*D).reshape(N,D) # Las filas son las muestras y las columnas son las features\n",
    "X_centrado = X - X.mean(axis=0) # Saco la media de cada feature (columna) y se la resto a cada muestra"
   ]
  },
  {
   "cell_type": "markdown",
   "metadata": {},
   "source": [
    "2. Obtener la matriz de covarianza de $X^T$, revisar en la teoría por qué utilizamos la transpuesta. Buscar en la documentación de NumPy qué funciones se pueden utilizar."
   ]
  },
  {
   "cell_type": "code",
   "execution_count": 149,
   "metadata": {},
   "outputs": [],
   "source": [
    "matriz_cov = np.cov(X.T, bias=True) #Uso bias = True para dividir en N y no en N-1"
   ]
  },
  {
   "cell_type": "markdown",
   "metadata": {},
   "source": [
    "3. Calcular los autovalores y autovectores de la matriz de covarianza. Revisar la documentación de NumPy."
   ]
  },
  {
   "cell_type": "code",
   "execution_count": 156,
   "metadata": {},
   "outputs": [],
   "source": [
    "eigenvalues, eigenvectors = np.linalg.eig(matriz_cov)\n",
    "# Los vectores propios son cada columna del array eigenvectors por lo que a eigenvalues[i] le corresponde el eigenvectors[:,i]"
   ]
  },
  {
   "cell_type": "markdown",
   "metadata": {},
   "source": [
    "4. Ordernar los autovectores en el sentido de los autovalores decrecientes, revisar la teoría de ser necesario."
   ]
  },
  {
   "cell_type": "code",
   "execution_count": 176,
   "metadata": {},
   "outputs": [],
   "source": [
    "orden_eigenvalues = eigenvalues.argsort()[::-1]\n",
    "eigenvalues_sorted = eigenvalues[orden_eigenvalues]\n",
    "eigenvectors_sorted = eigenvectors.T[orden_eigenvalues]"
   ]
  },
  {
   "cell_type": "markdown",
   "metadata": {},
   "source": [
    "5. Proyectar el dataset centrado sobre los $m$ autovectores más relevantes (Hint: usen np.dot)."
   ]
  },
  {
   "cell_type": "code",
   "execution_count": 182,
   "metadata": {},
   "outputs": [],
   "source": [
    "m = 2\n",
    "eigenvectors_selected = eigenvectors_sorted[0:m,:]\n",
    "X_proyectado = np.dot (X_centrado, eigenvectors_selected.T) # Lo vuelvo a vectores columna para poder hacer la multiplicación"
   ]
  },
  {
   "cell_type": "markdown",
   "metadata": {},
   "source": [
    "6. Consolidar los pasos anteriores en una función o clase PCA."
   ]
  },
  {
   "cell_type": "code",
   "execution_count": 235,
   "metadata": {},
   "outputs": [],
   "source": [
    "def pca_np(X, m):\n",
    "    # Centro el dataset\n",
    "    X_centrado = X - X.mean(axis=0)\n",
    "    \n",
    "    #Calculo la matriz de covarianza\n",
    "    matriz_cov = np.cov(X_centrado.T, bias=True)\n",
    "    \n",
    "    #Calculo los autovectores y autovalores\n",
    "    eigenvalues, eigenvectors = np.linalg.eig(matriz_cov)\n",
    "    \n",
    "    #Ordeno los autovalores y autovectores\n",
    "    orden_eigenvalues = eigenvalues.argsort()[::-1]\n",
    "    eigenvalues_sorted = eigenvalues[orden_eigenvalues]\n",
    "    eigenvectors_sorted = eigenvectors[:, orden_eigenvalues] #Transpongo la matriz \n",
    "    \n",
    "    #Selecciono los m autovectores más importantes\n",
    "    eigenvectors_selected = eigenvectors_sorted[:,:m]\n",
    "\n",
    "    #Proyecto el dataset en los autovectores elegidos\n",
    "    X_proyectado = np.dot(X_centrado, eigenvectors_selected)\n",
    "    \n",
    "    return X_proyectado"
   ]
  },
  {
   "cell_type": "markdown",
   "metadata": {},
   "source": [
    "7. Comparar los resultados obtenidos con el modelo de PCA implementado en Scikit-learn ([ver documentación](https://scikit-learn.org/stable/modules/generated/sklearn.decomposition.PCA.html)). Tomar como dataset:\n",
    "\n",
    "$X=\\begin{bmatrix}\n",
    "0.8 & 0.7\\\\\n",
    "0.1 & -0.1\n",
    "\\end{bmatrix}$\n",
    "\n",
    "Se debe reducir a un componente. Verificar los resultados con np.testing.assert_allclose"
   ]
  },
  {
   "cell_type": "code",
   "execution_count": 236,
   "metadata": {},
   "outputs": [],
   "source": [
    "X1=np.array([[0.8,0.7], [0.1,-0.1]])"
   ]
  },
  {
   "cell_type": "code",
   "execution_count": 237,
   "metadata": {},
   "outputs": [],
   "source": [
    "pca_np_result = pca_np(X=X1,m=1)"
   ]
  },
  {
   "cell_type": "code",
   "execution_count": 238,
   "metadata": {},
   "outputs": [],
   "source": [
    "pca_sklearn = PCA(n_components=1)\n",
    "X_std = StandardScaler(with_std=False).fit_transform(X1)\n",
    "pca_sklearn_results = pca_sklearn.fit_transform(X_std)"
   ]
  },
  {
   "cell_type": "code",
   "execution_count": 239,
   "metadata": {},
   "outputs": [
    {
     "data": {
      "text/plain": [
       "array([[-0.53150729],\n",
       "       [ 0.53150729]])"
      ]
     },
     "execution_count": 239,
     "metadata": {},
     "output_type": "execute_result"
    }
   ],
   "source": [
    "pca_np_result"
   ]
  },
  {
   "cell_type": "code",
   "execution_count": 240,
   "metadata": {},
   "outputs": [
    {
     "data": {
      "text/plain": [
       "array([[-0.53150729],\n",
       "       [ 0.53150729]])"
      ]
     },
     "execution_count": 240,
     "metadata": {},
     "output_type": "execute_result"
    }
   ],
   "source": [
    "pca_sklearn_results"
   ]
  }
 ],
 "metadata": {
  "kernelspec": {
   "display_name": "Python 3",
   "language": "python",
   "name": "python3"
  },
  "language_info": {
   "codemirror_mode": {
    "name": "ipython",
    "version": 3
   },
   "file_extension": ".py",
   "mimetype": "text/x-python",
   "name": "python",
   "nbconvert_exporter": "python",
   "pygments_lexer": "ipython3",
   "version": "3.8.8"
  }
 },
 "nbformat": 4,
 "nbformat_minor": 4
}
